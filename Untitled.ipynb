{
 "cells": [
  {
   "cell_type": "code",
   "execution_count": 3,
   "metadata": {},
   "outputs": [],
   "source": [
    "import pandas as pd\n",
    "df = pd.read_csv(\"/home/ajoy/GreatLearning/vehicle_csv.csv\")"
   ]
  },
  {
   "cell_type": "code",
   "execution_count": 4,
   "metadata": {},
   "outputs": [
    {
     "data": {
      "text/plain": [
       "(846, 19)"
      ]
     },
     "execution_count": 4,
     "metadata": {},
     "output_type": "execute_result"
    }
   ],
   "source": [
    "df.shape"
   ]
  },
  {
   "cell_type": "code",
   "execution_count": 5,
   "metadata": {},
   "outputs": [
    {
     "name": "stdout",
     "output_type": "stream",
     "text": [
      "<class 'pandas.core.frame.DataFrame'>\n",
      "RangeIndex: 846 entries, 0 to 845\n",
      "Data columns (total 19 columns):\n",
      "COMPACTNESS                  846 non-null int64\n",
      "CIRCULARITY                  846 non-null int64\n",
      "DISTANCE_CIRCULARITY         846 non-null int64\n",
      "RADIUS_RATIO                 846 non-null int64\n",
      "PR.AXIS_ASPECT_RATIO         846 non-null int64\n",
      "MAX.LENGTH_ASPECT_RATIO      846 non-null int64\n",
      "SCATTER_RATIO                846 non-null int64\n",
      "ELONGATEDNESS                846 non-null int64\n",
      "PR.AXIS_RECTANGULARITY       846 non-null int64\n",
      "MAX.LENGTH_RECTANGULARITY    846 non-null int64\n",
      "SCALED_VARIANCE_MAJOR        846 non-null int64\n",
      "SCALED_VARIANCE_MINOR        846 non-null int64\n",
      "SCALED_RADIUS_OF_GYRATION    846 non-null int64\n",
      "SKEWNESS_ABOUT_MAJOR         846 non-null int64\n",
      "SKEWNESS_ABOUT_MINOR         846 non-null int64\n",
      "KURTOSIS_ABOUT_MAJOR         846 non-null int64\n",
      "KURTOSIS_ABOUT_MINOR         846 non-null int64\n",
      "HOLLOWS_RATIO                846 non-null int64\n",
      "Class                        846 non-null object\n",
      "dtypes: int64(18), object(1)\n",
      "memory usage: 125.7+ KB\n"
     ]
    }
   ],
   "source": [
    "df.info()"
   ]
  },
  {
   "cell_type": "code",
   "execution_count": 6,
   "metadata": {},
   "outputs": [
    {
     "data": {
      "text/plain": [
       "COMPACTNESS                  0\n",
       "CIRCULARITY                  0\n",
       "DISTANCE_CIRCULARITY         0\n",
       "RADIUS_RATIO                 0\n",
       "PR.AXIS_ASPECT_RATIO         0\n",
       "MAX.LENGTH_ASPECT_RATIO      0\n",
       "SCATTER_RATIO                0\n",
       "ELONGATEDNESS                0\n",
       "PR.AXIS_RECTANGULARITY       0\n",
       "MAX.LENGTH_RECTANGULARITY    0\n",
       "SCALED_VARIANCE_MAJOR        0\n",
       "SCALED_VARIANCE_MINOR        0\n",
       "SCALED_RADIUS_OF_GYRATION    0\n",
       "SKEWNESS_ABOUT_MAJOR         0\n",
       "SKEWNESS_ABOUT_MINOR         0\n",
       "KURTOSIS_ABOUT_MAJOR         0\n",
       "KURTOSIS_ABOUT_MINOR         0\n",
       "HOLLOWS_RATIO                0\n",
       "Class                        0\n",
       "dtype: int64"
      ]
     },
     "execution_count": 6,
     "metadata": {},
     "output_type": "execute_result"
    }
   ],
   "source": [
    "df.isna().sum()"
   ]
  },
  {
   "cell_type": "code",
   "execution_count": 7,
   "metadata": {},
   "outputs": [
    {
     "data": {
      "text/plain": [
       "bus     218\n",
       "saab    217\n",
       "opel    212\n",
       "van     199\n",
       "Name: Class, dtype: int64"
      ]
     },
     "execution_count": 7,
     "metadata": {},
     "output_type": "execute_result"
    }
   ],
   "source": [
    "pd.value_counts(df['Class'])"
   ]
  },
  {
   "cell_type": "code",
   "execution_count": 8,
   "metadata": {},
   "outputs": [
    {
     "data": {
      "text/plain": [
       "<matplotlib.axes._subplots.AxesSubplot at 0x7fb436a215f8>"
      ]
     },
     "execution_count": 8,
     "metadata": {},
     "output_type": "execute_result"
    },
    {
     "data": {
      "image/png": "[encoded data removed]",
      "text/plain": [
       "<Figure size 432x288 with 1 Axes>"
      ]
     },
     "metadata": {
      "needs_background": "light"
     },
     "output_type": "display_data"
    }
   ],
   "source": [
    "import matplotlib.pyplot as plt\n",
    "%matplotlib inline\n",
    "pd.value_counts(df[\"Class\"]).plot(kind=\"bar\")"
   ]
  },
  {
   "cell_type": "code",
   "execution_count": 9,
   "metadata": {},
   "outputs": [
    {
     "data": {
      "text/plain": [
       "<matplotlib.axes._subplots.AxesSubplot at 0x7fb4366eaac8>"
      ]
     },
     "execution_count": 9,
     "metadata": {},
     "output_type": "execute_result"
    },
    {
     "data": {
      "image/png": "[encoded data removed]",
      "text/plain": [
       "<Figure size 432x288 with 1 Axes>"
      ]
     },
     "metadata": {
      "needs_background": "light"
     },
     "output_type": "display_data"
    }
   ],
   "source": [
    "pd.value_counts(df['Class']).hist(bins=300)"
   ]
  },
  {
   "cell_type": "code",
   "execution_count": 10,
   "metadata": {},
   "outputs": [
    {
     "data": {
      "text/html": [
       "<div>\n",
       "<style scoped>\n",
       "    .dataframe tbody tr th:only-of-type {\n",
       "        vertical-align: middle;\n",
       "    }\n",
       "\n",
       "    .dataframe tbody tr th {\n",
       "        vertical-align: top;\n",
       "    }\n",
       "\n",
       "    .dataframe thead th {\n",
       "        text-align: right;\n",
       "    }\n",
       "</style>\n",
       "<table border=\"1\" class=\"dataframe\">\n",
       "  <thead>\n",
       "    <tr style=\"text-align: right;\">\n",
       "      <th></th>\n",
       "      <th>COMPACTNESS</th>\n",
       "      <th>CIRCULARITY</th>\n",
       "      <th>DISTANCE_CIRCULARITY</th>\n",
       "      <th>RADIUS_RATIO</th>\n",
       "      <th>PR.AXIS_ASPECT_RATIO</th>\n",
       "      <th>MAX.LENGTH_ASPECT_RATIO</th>\n",
       "      <th>SCATTER_RATIO</th>\n",
       "      <th>ELONGATEDNESS</th>\n",
       "      <th>PR.AXIS_RECTANGULARITY</th>\n",
       "      <th>MAX.LENGTH_RECTANGULARITY</th>\n",
       "      <th>SCALED_VARIANCE_MAJOR</th>\n",
       "      <th>SCALED_VARIANCE_MINOR</th>\n",
       "      <th>SCALED_RADIUS_OF_GYRATION</th>\n",
       "      <th>SKEWNESS_ABOUT_MAJOR</th>\n",
       "      <th>SKEWNESS_ABOUT_MINOR</th>\n",
       "      <th>KURTOSIS_ABOUT_MAJOR</th>\n",
       "      <th>KURTOSIS_ABOUT_MINOR</th>\n",
       "      <th>HOLLOWS_RATIO</th>\n",
       "    </tr>\n",
       "  </thead>\n",
       "  <tbody>\n",
       "    <tr>\n",
       "      <th>0</th>\n",
       "      <td>95</td>\n",
       "      <td>48</td>\n",
       "      <td>83</td>\n",
       "      <td>178</td>\n",
       "      <td>72</td>\n",
       "      <td>10</td>\n",
       "      <td>162</td>\n",
       "      <td>42</td>\n",
       "      <td>20</td>\n",
       "      <td>159</td>\n",
       "      <td>176</td>\n",
       "      <td>379</td>\n",
       "      <td>184</td>\n",
       "      <td>70</td>\n",
       "      <td>6</td>\n",
       "      <td>16</td>\n",
       "      <td>187</td>\n",
       "      <td>197</td>\n",
       "    </tr>\n",
       "    <tr>\n",
       "      <th>1</th>\n",
       "      <td>91</td>\n",
       "      <td>41</td>\n",
       "      <td>84</td>\n",
       "      <td>141</td>\n",
       "      <td>57</td>\n",
       "      <td>9</td>\n",
       "      <td>149</td>\n",
       "      <td>45</td>\n",
       "      <td>19</td>\n",
       "      <td>143</td>\n",
       "      <td>170</td>\n",
       "      <td>330</td>\n",
       "      <td>158</td>\n",
       "      <td>72</td>\n",
       "      <td>9</td>\n",
       "      <td>14</td>\n",
       "      <td>189</td>\n",
       "      <td>199</td>\n",
       "    </tr>\n",
       "    <tr>\n",
       "      <th>2</th>\n",
       "      <td>104</td>\n",
       "      <td>50</td>\n",
       "      <td>106</td>\n",
       "      <td>209</td>\n",
       "      <td>66</td>\n",
       "      <td>10</td>\n",
       "      <td>207</td>\n",
       "      <td>32</td>\n",
       "      <td>23</td>\n",
       "      <td>158</td>\n",
       "      <td>223</td>\n",
       "      <td>635</td>\n",
       "      <td>220</td>\n",
       "      <td>73</td>\n",
       "      <td>14</td>\n",
       "      <td>9</td>\n",
       "      <td>188</td>\n",
       "      <td>196</td>\n",
       "    </tr>\n",
       "    <tr>\n",
       "      <th>3</th>\n",
       "      <td>93</td>\n",
       "      <td>41</td>\n",
       "      <td>82</td>\n",
       "      <td>159</td>\n",
       "      <td>63</td>\n",
       "      <td>9</td>\n",
       "      <td>144</td>\n",
       "      <td>46</td>\n",
       "      <td>19</td>\n",
       "      <td>143</td>\n",
       "      <td>160</td>\n",
       "      <td>309</td>\n",
       "      <td>127</td>\n",
       "      <td>63</td>\n",
       "      <td>6</td>\n",
       "      <td>10</td>\n",
       "      <td>199</td>\n",
       "      <td>207</td>\n",
       "    </tr>\n",
       "    <tr>\n",
       "      <th>4</th>\n",
       "      <td>85</td>\n",
       "      <td>44</td>\n",
       "      <td>70</td>\n",
       "      <td>205</td>\n",
       "      <td>103</td>\n",
       "      <td>52</td>\n",
       "      <td>149</td>\n",
       "      <td>45</td>\n",
       "      <td>19</td>\n",
       "      <td>144</td>\n",
       "      <td>241</td>\n",
       "      <td>325</td>\n",
       "      <td>188</td>\n",
       "      <td>127</td>\n",
       "      <td>9</td>\n",
       "      <td>11</td>\n",
       "      <td>180</td>\n",
       "      <td>183</td>\n",
       "    </tr>\n",
       "  </tbody>\n",
       "</table>\n",
       "</div>"
      ],
      "text/plain": [
       "   COMPACTNESS  CIRCULARITY  DISTANCE_CIRCULARITY  RADIUS_RATIO  \\\n",
       "0           95           48                    83           178   \n",
       "1           91           41                    84           141   \n",
       "2          104           50                   106           209   \n",
       "3           93           41                    82           159   \n",
       "4           85           44                    70           205   \n",
       "\n",
       "   PR.AXIS_ASPECT_RATIO  MAX.LENGTH_ASPECT_RATIO  SCATTER_RATIO  \\\n",
       "0                    72                       10            162   \n",
       "1                    57                        9            149   \n",
       "2                    66                       10            207   \n",
       "3                    63                        9            144   \n",
       "4                   103                       52            149   \n",
       "\n",
       "   ELONGATEDNESS  PR.AXIS_RECTANGULARITY  MAX.LENGTH_RECTANGULARITY  \\\n",
       "0             42                      20                        159   \n",
       "1             45                      19                        143   \n",
       "2             32                      23                        158   \n",
       "3             46                      19                        143   \n",
       "4             45                      19                        144   \n",
       "\n",
       "   SCALED_VARIANCE_MAJOR  SCALED_VARIANCE_MINOR  SCALED_RADIUS_OF_GYRATION  \\\n",
       "0                    176                    379                        184   \n",
       "1                    170                    330                        158   \n",
       "2                    223                    635                        220   \n",
       "3                    160                    309                        127   \n",
       "4                    241                    325                        188   \n",
       "\n",
       "   SKEWNESS_ABOUT_MAJOR  SKEWNESS_ABOUT_MINOR  KURTOSIS_ABOUT_MAJOR  \\\n",
       "0                    70                     6                    16   \n",
       "1                    72                     9                    14   \n",
       "2                    73                    14                     9   \n",
       "3                    63                     6                    10   \n",
       "4                   127                     9                    11   \n",
       "\n",
       "   KURTOSIS_ABOUT_MINOR  HOLLOWS_RATIO  \n",
       "0                   187            197  \n",
       "1                   189            199  \n",
       "2                   188            196  \n",
       "3                   199            207  \n",
       "4                   180            183  "
      ]
     },
     "execution_count": 10,
     "metadata": {},
     "output_type": "execute_result"
    }
   ],
   "source": [
    "from sklearn.cluster import KMeans\n",
    "interest_df = df.drop('Class', axis=1)\n",
    "interest_df.head()\n"
   ]
  },
  {
   "cell_type": "code",
   "execution_count": 11,
   "metadata": {},
   "outputs": [],
   "source": [
    "kmeans = KMeans(n_clusters=5, random_state=10)"
   ]
  },
  {
   "cell_type": "code",
   "execution_count": 12,
   "metadata": {},
   "outputs": [
    {
     "data": {
      "text/plain": [
       "KMeans(algorithm='auto', copy_x=True, init='k-means++', max_iter=300,\n",
       "       n_clusters=5, n_init=10, n_jobs=None, precompute_distances='auto',\n",
       "       random_state=10, tol=0.0001, verbose=0)"
      ]
     },
     "execution_count": 12,
     "metadata": {},
     "output_type": "execute_result"
    }
   ],
   "source": [
    "kmeans.fit(interest_df)"
   ]
  },
  {
   "cell_type": "code",
   "execution_count": 22,
   "metadata": {},
   "outputs": [
    {
     "data": {
      "text/plain": [
       "(846, 18)"
      ]
     },
     "execution_count": 22,
     "metadata": {},
     "output_type": "execute_result"
    }
   ],
   "source": [
    "centroids = kmeans.cluster_centers_\n",
    "centroids.shape\n",
    "interest_df.shape"
   ]
  },
  {
   "cell_type": "code",
   "execution_count": 20,
   "metadata": {},
   "outputs": [
    {
     "data": {
      "text/plain": [
       "0    344\n",
       "1    190\n",
       "3    166\n",
       "2    122\n",
       "4     24\n",
       "dtype: int64"
      ]
     },
     "execution_count": 20,
     "metadata": {},
     "output_type": "execute_result"
    }
   ],
   "source": [
    "interest_df.shape\n",
    "pd.value_counts(kmeans.labels_) "
   ]
  },
  {
   "cell_type": "code",
   "execution_count": 23,
   "metadata": {},
   "outputs": [
    {
     "data": {
      "text/plain": [
       "(846, 5)"
      ]
     },
     "execution_count": 23,
     "metadata": {},
     "output_type": "execute_result"
    }
   ],
   "source": [
    "from scipy.spatial import distance\n",
    "import numpy as np\n",
    "distance.cdist(interest_df, centroids, 'euclidean').shape"
   ]
  },
  {
   "cell_type": "code",
   "execution_count": 16,
   "metadata": {},
   "outputs": [
    {
     "data": {
      "text/plain": [
       "array([ 49.0576058 ,  28.08558081,  44.88045926,  60.89776861,\n",
       "       118.83361375,  54.49359672,  32.22509622,  51.52418619,\n",
       "        48.25716331,  27.46950375,  27.18401512,  44.26094123,\n",
       "        31.23249036,  18.32769764,  52.44169156,  65.78403935,\n",
       "        60.67298939,  35.70622203,  24.85543131,  34.23714268,\n",
       "        23.69004969,  43.59860259,  32.04625782,  52.6122595 ,\n",
       "        59.42144609,  28.35567026,  31.9288679 ,  26.93897279,\n",
       "        74.01771961,  53.3120789 ,  18.5430947 ,  57.0286935 ,\n",
       "        64.76598898,  49.09896389,  77.21389704,  38.79362317,\n",
       "        46.61916303, 201.56411027,  36.8220878 ,  32.77722321,\n",
       "        54.39923415,  63.60159942,  43.31258572,  74.03226725,\n",
       "        38.25637672,  42.22844669,  24.57409898,  52.9763316 ,\n",
       "        33.06877735,  67.68298085,  57.47587931,  45.69187591,\n",
       "        49.1651657 ,  35.71321283,  51.66448248,  39.87866632,\n",
       "        19.22941386,  35.28106203,  34.85538306,  22.38345082,\n",
       "        73.71199958,  21.18039735,  33.10890505,  23.73467365,\n",
       "        28.20097423,  39.73718706,  46.2381081 ,  77.21918798,\n",
       "        45.84443958,  72.92754003,  48.4976705 ,  67.88382368,\n",
       "        47.33694911,  46.78669441,  24.55352176,  82.99308601,\n",
       "        70.13125771,  36.51923467,  24.26417854,  59.2765775 ,\n",
       "        27.50270326,  21.88950342,  31.85047261,  55.3658327 ,\n",
       "        40.36451456,  90.07618303,  27.43804587,  50.81451816,\n",
       "        64.02970517,  38.55282189,  41.19533497,  87.09529281,\n",
       "        98.63805629,  35.36508708,  41.15855432,  24.39333045,\n",
       "        43.74540336,  14.88865147,  83.17541921,  48.7495721 ,\n",
       "       148.11006228,  32.26548431,  31.85312042,  63.488123  ,\n",
       "        82.93153327,  37.39944894,  83.75902122,  40.06452457,\n",
       "        34.81266928,  29.49159141,  43.17551888,  28.46362163,\n",
       "        53.16339306,  71.03881225,  30.45159847,  38.51000883,\n",
       "        73.62624562,  45.07821089,  43.58329196,  50.20776372,\n",
       "        29.50486304,  39.47810507,  48.38692009,  46.09635878,\n",
       "        44.87479832,  37.20657092,  30.70248968,  27.96702524,\n",
       "        35.11977629,  76.47092906,  86.2884974 ,  50.5403692 ,\n",
       "        36.25591909,  30.24768562,  45.75544652, 195.15751799,\n",
       "        45.34221133,  34.70713379,  28.72607779,  28.03844683,\n",
       "        66.40789977,  50.31370046,  48.53173506,  48.4534405 ,\n",
       "        72.68719115,  58.06568732,  51.89107409,  34.47433947,\n",
       "        34.65574671,  52.32907532,  40.39193066,  42.88222372,\n",
       "        59.95965573,  44.13964493,  42.04140914,  40.94877389,\n",
       "        51.52271875,  24.48544349,  38.07707713,  26.43823145,\n",
       "        31.41091175,  74.14397688,  89.12943208,  20.01251604,\n",
       "        26.41735558,  47.76006747,  54.77446221,  31.13811072,\n",
       "        43.11831843,  23.78406024,  32.45584599,  36.98042838,\n",
       "        42.85736037,  29.48778234,  34.80607189,  51.53462226,\n",
       "        58.19342983,  39.6337575 ,  43.35384255,  43.30580059,\n",
       "        52.63121789,  46.91758556,  37.00358045,  66.39472746,\n",
       "        68.22927942,  41.68873571,  76.31921656,  37.10251152,\n",
       "        30.77358474,  46.29145371,  23.82036317,  35.58028705,\n",
       "        23.96807156,  50.70965145,  43.06272967,  34.09286004,\n",
       "        44.9966413 ,  21.44457081,  41.77379381,  43.86054633,\n",
       "        25.68475864,  57.12214443,  65.05918635,  20.9825201 ,\n",
       "        37.38010009,  31.38253978,  57.17413091,  50.77169453,\n",
       "        29.27878966,  43.5192981 ,  83.7420896 ,  44.20156   ,\n",
       "        22.96478271,  47.76910301,  43.02542905,  56.20708048,\n",
       "        20.09737547,  41.11937489,  33.40219793,  65.22690389,\n",
       "        51.86168692,  31.77066935,  43.03677265,  27.91687975,\n",
       "        33.72471231,  53.53609813,  35.80977288,  34.9353217 ,\n",
       "        41.3352512 ,  28.12281765,  64.81461666,  84.8082576 ,\n",
       "        48.38728055,  40.87030632,  47.36230089,  45.35278857,\n",
       "        94.63634725,  43.71901389,  59.38751279,  39.46087068,\n",
       "        56.15285276,  44.08254507,  46.2296199 ,  29.16130894,\n",
       "        47.53307136,  43.47808841,  67.9864288 ,  89.55875366,\n",
       "        40.2479531 ,  63.35162594,  20.94875166,  63.52308194,\n",
       "        28.2904962 ,  47.43799957,  24.24698185,  29.56674594,\n",
       "        51.96675895,  27.09625115,  76.49074827,  77.70079484,\n",
       "        26.86323377,  54.02033494,  48.55174438,  39.44533601,\n",
       "        28.92584975,  37.04197604,  49.47283575,  82.27356431,\n",
       "        48.31031298,  44.62582945,  38.75388759,  59.68922134,\n",
       "        46.33589285,  41.22968662,  49.38085408,  39.53160159,\n",
       "        37.00625137,  33.21245344,  30.02758104,  54.67826479,\n",
       "        35.81509706,  13.88523855,  44.77778299,  42.35542396,\n",
       "        40.81478116,  79.99815488,  44.72087685,  26.84446742,\n",
       "        84.15319891,  27.53433044,  23.35466886, 109.61978619,\n",
       "        21.99293942,  30.34690319,  47.51984235,  37.36569548,\n",
       "        86.72842405,  19.28747839,  48.05904698,  64.87415204,\n",
       "        16.39585449,  22.04442846,  70.8360609 ,  38.41961821,\n",
       "        40.09418955,  20.71464123,  46.86905434,  31.79345914,\n",
       "        62.627181  ,  72.14103761,  48.09007801,  38.0872296 ,\n",
       "        27.22575454,  92.59773126,  40.192095  ,  31.85406601,\n",
       "        25.8546834 ,  40.47099585,  53.34278401,  64.32657503,\n",
       "        49.02955974,  76.8334915 ,  46.17828029,  67.02972081,\n",
       "        81.28284877,  50.3319547 ,  27.47129405,  29.71400247,\n",
       "        39.03096372,  57.51448625,  57.83238481,  46.43115683,\n",
       "        61.9241713 ,  45.09399577,  96.57795858,  46.95981308,\n",
       "        38.7153877 ,  59.23292863,  33.42881835,  17.53146244,\n",
       "        35.61385069,  50.9394356 ,  31.44847886,  56.86292699,\n",
       "        66.43051647,  80.81956498,  37.65791791,  27.39223856,\n",
       "        43.81883781,  33.91850017,  54.45738171,  49.203456  ,\n",
       "        44.48768932,  36.63241148,  40.36208897,  16.57965957,\n",
       "        27.24293957,  47.70526664,  26.81683935,  27.78783547,\n",
       "        30.3377972 ,  86.79795569,  81.7369824 ,  27.5130597 ,\n",
       "        16.31548952,  75.00928253,  29.35920027,  27.29150233,\n",
       "        38.93461828,  55.1536213 ,  44.12519295,  67.0457833 ,\n",
       "        29.33483267,  77.67608149,  57.62995438, 111.46320064,\n",
       "        26.77612531,  15.00464437,  37.97677893,  25.07657414,\n",
       "        38.46146033,  44.93942682,  33.24954748,  39.42498329,\n",
       "        57.48870335,  47.1083347 ,  24.76777117,  28.45514362,\n",
       "       252.46586891,  83.97564084,  53.4221654 ,  60.53949883,\n",
       "        35.3610591 ,  29.34048062,  60.77585691,  61.1964324 ,\n",
       "        62.52907657,  20.82451235,  86.6403477 ,  35.16459855,\n",
       "        55.29654831,  38.41735119,  44.17158937,  64.72272336,\n",
       "        95.33620753,  28.98571963,  22.87934994,  54.87917882,\n",
       "        29.82249562,  85.92371682,  59.21416462,  57.07272535,\n",
       "        36.48212163,  57.81822015,  36.63899738,  35.64729032,\n",
       "        52.2438699 ,  55.55416245,  20.14216538,  34.61101682,\n",
       "        32.81998478,  37.42013027,  65.71695113,  51.14187824,\n",
       "        29.55045471,  36.25936792,  36.90232972,  87.31964943,\n",
       "        47.69478447,  36.0749832 ,  23.08070149,  65.65718658,\n",
       "        40.25034841,  37.84258814,  52.08528272,  27.53892454,\n",
       "        32.12561307,  39.22012818,  40.40106146,  93.20601119,\n",
       "        87.5773187 ,  44.34507747,  50.70984865,  29.75418191,\n",
       "        85.2435848 ,  33.33450741,  43.92896498,  36.87250926,\n",
       "        45.49346792,  45.7883512 ,  44.12927456,  65.96654253,\n",
       "        65.05617314,  31.21796722,  73.81115906,  36.53889089,\n",
       "        51.82530506,  47.38318403,  56.47880685,  48.45092021,\n",
       "        34.51131581,  76.96480974,  79.66764897,  47.06931888,\n",
       "        33.96719531,  24.3286096 ,  35.24685159,  35.59247174,\n",
       "        38.65369652,  34.20536248,  49.12113945,  46.56147992,\n",
       "        77.39578965,  55.39905796,  28.29285945,  31.89758021,\n",
       "        71.29503446,  30.76888474,  38.89898473,  52.56798334,\n",
       "        22.56132793,  30.77717613,  84.0186363 ,  56.15153403,\n",
       "        42.6280952 ,  37.35970455,  50.63525755,  49.53584409,\n",
       "        39.87462722,  33.68808695,  40.39584192,  38.66264152,\n",
       "        37.5507079 ,  44.18612359,  37.20285047,  45.31418576,\n",
       "        27.96506923,  29.2494856 ,  60.33206966,  47.13924326,\n",
       "        84.61642768,  38.81335693,  20.51639552,  48.40518028,\n",
       "        80.27493656,  40.19548079,  32.30891749,  46.49222079,\n",
       "        37.30067757,  30.47160615,  49.34198258,  60.3175981 ,\n",
       "        60.22687669,  60.61763377,  36.04274007,  30.67171026,\n",
       "        43.74321038,  41.32786548,  28.10885962,  49.14382216,\n",
       "        46.88457956,  34.74061653,  61.95174631,  96.10185894,\n",
       "        32.26930825,  39.49216688,  32.70107829,  58.80639817,\n",
       "        78.40949589,  51.18846698,  51.49009005,  31.64730768,\n",
       "        61.08779568,  33.93448086,  34.11489557,  38.51031077,\n",
       "        47.83945566,  37.02060095,  85.94449152,  55.41632205,\n",
       "        48.30141399,  36.05259984,  89.27253068,  57.66601787,\n",
       "        27.88343408,  29.66396825,  43.84949152,  42.45110554,\n",
       "        43.40155756,  27.19738459,  52.82792779,  51.67327457,\n",
       "        54.7697104 ,  51.16597333,  74.85243618,  47.61801419,\n",
       "        84.29987396,  33.51740534,  50.88859093,  40.56888673,\n",
       "        48.15023465,  87.99638517,  26.19929373,  44.66877936,\n",
       "        69.27412577,  49.54580457,  45.42075623,  45.05084815,\n",
       "        47.8048099 ,  39.13331651,  44.6312711 ,  25.84261108,\n",
       "        25.69290624,  43.19221332,  55.75900062,  21.40518486,\n",
       "        36.39552954,  83.68117969,  70.03328005,  23.93454082,\n",
       "        49.39974426,  47.78460284,  44.78736713,  22.52303714,\n",
       "        59.18243731,  61.56029137,  75.56261149,  39.67694336,\n",
       "        46.59377729,  68.88971233,  44.22337421,  23.90759477,\n",
       "        23.87462092,  47.00275685,  34.02082393,  43.81200371,\n",
       "        44.92762701,  36.55703025,  54.30544938,  29.33922213,\n",
       "        85.03923798,  59.88388023,  57.64832441,  65.35878502,\n",
       "        54.82116855,  46.82816114,  44.53367025,  55.82616805,\n",
       "        28.63828558,  55.21762306,  38.04447317,  42.52957754,\n",
       "        80.50619719,  70.36956324,  77.88673938,  55.2015547 ,\n",
       "        53.12936772,  47.76909399,  20.09542484,  41.86938138,\n",
       "        57.08629518,  43.11777908,  39.22507391,  46.04794803,\n",
       "        51.53950015,  22.09722159,  45.71165785,  39.76044357,\n",
       "        36.86150238,  33.87531465,  30.44441236,  52.11023581,\n",
       "        41.19738181,  68.57959526,  28.92732195,  25.84909084,\n",
       "        59.53758702,  41.48119314,  30.61955654,  46.43243923,\n",
       "        95.46383675,  31.49359238,  51.01108716,  31.00290621,\n",
       "        26.3602694 ,  14.26545961,  68.67100426,  49.84665871,\n",
       "        27.31344073,  30.8430549 ,  50.04380021,  55.52135878,\n",
       "        78.46864928,  48.36591941,  67.99119902,  62.61342154,\n",
       "        17.62687795,  28.11806236,  54.94318712,  52.80989596,\n",
       "        41.86388821,  66.55356425,  44.61916199,  65.30886252,\n",
       "        54.03619562,  53.01110975,  41.25748651,  28.1984106 ,\n",
       "        43.29318479,  50.0579649 ,  76.17936038,  64.10646777,\n",
       "        90.29596274,  56.934355  ,  37.83475194,  85.3577169 ,\n",
       "        20.41240134,  84.80710918,  50.95492617,  42.53080786,\n",
       "        40.03912143,  82.12405568,  43.81711292,  30.06884462,\n",
       "        85.328557  ,  51.74538369,  22.47664551,  93.97412099,\n",
       "        44.45961566,  56.63689231,  88.80675205,  39.2801191 ,\n",
       "        84.47640002,  40.56638072,  28.70311339,  40.50502962,\n",
       "        36.49494821,  56.03002591,  23.36932671,  84.6186237 ,\n",
       "        30.72206206,  43.50103256,  72.22641901,  57.15794712,\n",
       "        37.47943776,  18.36709994, 141.25199266,  44.03360796,\n",
       "        41.63717691,  43.27134966,  97.12429823,  95.09033291,\n",
       "        89.39826087,  34.30164707,  41.81003372,  64.34759916,\n",
       "        56.28076453,  83.81477274,  52.18724226,  18.47139587,\n",
       "        80.70242403,  39.76222542,  26.78538457,  61.24085637,\n",
       "        29.66876971,  23.92195298,  87.25451484,  48.31723982,\n",
       "        35.52405706,  56.89485077,  61.05202994, 100.11769116,\n",
       "        45.86231759,  63.47678381,  38.33296833,  34.14125702,\n",
       "        59.98905902,  58.00465355,  48.19098892,  24.6087494 ,\n",
       "        21.37910544,  44.92853331,  46.29522423,  87.56683553,\n",
       "        32.84606222,  29.11141131,  35.50115665,  46.5728096 ,\n",
       "        28.60340016,  59.3750226 ,  60.06226166,  57.86040183,\n",
       "        87.27601145,  54.17636864,  26.30167118,  52.77772968,\n",
       "        89.28082347,  31.09807948,  35.69025127,  42.29784852,\n",
       "        34.59318416,  82.22240848,  42.88448568,  28.62484828,\n",
       "        40.20124169,  42.79742536,  83.04422995,  34.23309073,\n",
       "        81.53627291,  65.63504117,  50.99427545,  92.35459606,\n",
       "        77.28444288,  30.65947387,  26.7310492 ,  71.33527302,\n",
       "        59.759901  ,  87.03333892,  30.17689674,  33.18069664,\n",
       "        91.29819561,  39.25765465,  44.87413944,  23.78417966,\n",
       "        65.26374353,  50.54387768,  38.427551  ,  29.41714242,\n",
       "        28.73916898,  56.18385383,  53.95403805,  55.98456826,\n",
       "        64.6066873 ,  65.7943881 ,  27.18322565,  38.18890368,\n",
       "        41.7677985 ,  48.88022786,  26.72300098,  38.19241174,\n",
       "        32.97810885,  17.30226194,  65.72527275,  41.35848711,\n",
       "        93.58870176,  27.71601985,  20.68037129,  42.09679125,\n",
       "        30.65321544,  53.14297223,  18.90816705,  36.05076178,\n",
       "        90.95008465,  42.43829817,  45.84260066,  37.0344414 ,\n",
       "        44.58592267,  37.78433039,  42.2513928 ,  19.37760741,\n",
       "        34.18175485,  50.41431336,  50.95315759,  81.61612871,\n",
       "        44.47959724,  29.43139185,  30.46551176,  63.74367124,\n",
       "        29.50363798,  40.17740992,  58.41146024,  71.57523989,\n",
       "        19.48421337,  44.42426101,  38.55704056, 110.67731814,\n",
       "        59.30717113,  37.55713277,  25.1848485 ,  56.33212252,\n",
       "        41.2564075 ,  88.07764754,  33.15411284,  53.58390216,\n",
       "        34.20782801,  46.07884368])"
      ]
     },
     "execution_count": 16,
     "metadata": {},
     "output_type": "execute_result"
    }
   ],
   "source": [
    "np.min(distance.cdist(interest_df, kmeans.cluster_centers_, 'euclidean'), axis=1)\n"
   ]
  },
  {
   "cell_type": "code",
   "execution_count": 17,
   "metadata": {},
   "outputs": [
    {
     "data": {
      "text/plain": [
       "40732.34831005553"
      ]
     },
     "execution_count": 17,
     "metadata": {},
     "output_type": "execute_result"
    }
   ],
   "source": [
    "sum(np.min(distance.cdist(interest_df, kmeans.cluster_centers_, 'euclidean'), axis=1))\n"
   ]
  },
  {
   "cell_type": "code",
   "execution_count": 18,
   "metadata": {},
   "outputs": [
    {
     "data": {
      "text/plain": [
       "48.146983818032545"
      ]
     },
     "execution_count": 18,
     "metadata": {},
     "output_type": "execute_result"
    }
   ],
   "source": [
    "sum(np.min(distance.cdist(interest_df, kmeans.cluster_centers_, 'euclidean'), axis=1))/interest_df.shape[0]"
   ]
  },
  {
   "cell_type": "code",
   "execution_count": null,
   "metadata": {},
   "outputs": [],
   "source": []
  }
 ],
 "metadata": {
  "kernelspec": {
   "display_name": "Python 3",
   "language": "python",
   "name": "python3"
  },
  "language_info": {
   "codemirror_mode": {
    "name": "ipython",
    "version": 3
   },
   "file_extension": ".py",
   "mimetype": "text/x-python",
   "name": "python",
   "nbconvert_exporter": "python",
   "pygments_lexer": "ipython3",
   "version": "3.7.3"
  }
 },
 "nbformat": 4,
 "nbformat_minor": 2
}
